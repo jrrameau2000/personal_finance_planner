{
 "cells": [
  {
   "cell_type": "code",
   "execution_count": 75,
   "metadata": {},
   "outputs": [],
   "source": [
    "#importing important modules\n",
    "import os\n",
    "import pandas as pd\n",
    "import alpaca_trade_api as tradeapi\n",
    "from MCForecastTools import MCSimulation\n",
    "from dotenv import load_dotenv\n",
    "import requests as rq\n",
    "import json\n",
    "\n",
    "%matplotlib inline \n"
   ]
  },
  {
   "cell_type": "code",
   "execution_count": 76,
   "metadata": {},
   "outputs": [
    {
     "data": {
      "text/plain": [
       "True"
      ]
     },
     "execution_count": 76,
     "metadata": {},
     "output_type": "execute_result"
    }
   ],
   "source": [
    "#loading environment\n",
    "load_dotenv('keys.env')"
   ]
  },
  {
   "cell_type": "code",
   "execution_count": 77,
   "metadata": {},
   "outputs": [],
   "source": [
    "#loading api keys\n",
    "alpaca_key = os.getenv('alpaca_key')\n",
    "alpaca_secret_key = os.getenv('alpaca_secret_key')"
   ]
  },
  {
   "cell_type": "markdown",
   "metadata": {},
   "source": [
    "# Part 1 - Personal Finance Planner"
   ]
  },
  {
   "cell_type": "code",
   "execution_count": 78,
   "metadata": {},
   "outputs": [],
   "source": [
    "# amount of crypto assets\n",
    "my_btc= 1.2\n",
    "my_eth= 5.3"
   ]
  },
  {
   "cell_type": "code",
   "execution_count": 79,
   "metadata": {},
   "outputs": [],
   "source": [
    "#Crypto API URLs + format to json\n",
    "btc_url = \"https://api.alternative.me/v2/ticker/Bitcoin/?convert=CAD\" + \"?format=json\"\n",
    "eth_url = \"https://api.alternative.me/v2/ticker/Ethereum/?convert=CAD\" + \"?format=json\""
   ]
  },
  {
   "cell_type": "code",
   "execution_count": 80,
   "metadata": {},
   "outputs": [],
   "source": [
    "#Response from website\n",
    "btc_response_data=rq.get(btc_url)\n",
    "eth_response_data=rq.get(eth_url)"
   ]
  },
  {
   "cell_type": "code",
   "execution_count": 81,
   "metadata": {},
   "outputs": [],
   "source": [
    "#extracting content from website\n",
    "btc_content=btc_response_data.content\n",
    "eth_content=eth_response_data.content"
   ]
  },
  {
   "cell_type": "code",
   "execution_count": 82,
   "metadata": {},
   "outputs": [],
   "source": [
    "#formatting to json \n",
    "btc_data=btc_response_data.json()\n",
    "eth_data=eth_response_data.json()"
   ]
  },
  {
   "cell_type": "code",
   "execution_count": 83,
   "metadata": {},
   "outputs": [
    {
     "name": "stdout",
     "output_type": "stream",
     "text": [
      "{\n",
      "   \"data\": {\n",
      "      \"1027\": {\n",
      "         \"id\": 1027,\n",
      "         \"name\": \"Ethereum\",\n",
      "         \"symbol\": \"ETH\",\n",
      "         \"website_slug\": \"ethereum\",\n",
      "         \"rank\": 2,\n",
      "         \"circulating_supply\": 115320245,\n",
      "         \"total_supply\": 115320245,\n",
      "         \"max_supply\": 0,\n",
      "         \"quotes\": {\n",
      "            \"USD\": {\n",
      "               \"price\": 2083.56,\n",
      "               \"volume_24h\": 33958773877,\n",
      "               \"market_cap\": 239254391765,\n",
      "               \"percentage_change_1h\": 2.42284899194191,\n",
      "               \"percentage_change_24h\": 1.88559878492079,\n",
      "               \"percentage_change_7d\": 22.5359951879032,\n",
      "               \"percent_change_1h\": 2.42284899194191,\n",
      "               \"percent_change_24h\": 1.88559878492079,\n",
      "               \"percent_change_7d\": 22.5359951879032\n",
      "            }\n",
      "         },\n",
      "         \"last_updated\": 1617477526\n",
      "      }\n",
      "   },\n",
      "   \"metadata\": {\n",
      "      \"timestamp\": 1617477526,\n",
      "      \"num_cryptocurrencies\": 1319,\n",
      "      \"error\": null\n",
      "   }\n",
      "}\n"
     ]
    }
   ],
   "source": [
    "#clean up data to be able to visualize and slice index\n",
    "print(json.dumps(eth_data, indent=3))"
   ]
  },
  {
   "cell_type": "code",
   "execution_count": 84,
   "metadata": {},
   "outputs": [],
   "source": [
    "#fetching crypto prices\n",
    "btc_price=btc_data['data']['1']['quotes']['USD']['price']\n",
    "eth_price=eth_data['data']['1027']['quotes']['USD']['price']\n",
    "\n"
   ]
  },
  {
   "cell_type": "code",
   "execution_count": 85,
   "metadata": {},
   "outputs": [
    {
     "name": "stdout",
     "output_type": "stream",
     "text": [
      "The current value of your 1.2 BTC is $70390.8 and the current value of your 5.3 ETH is $11042.87\n"
     ]
    }
   ],
   "source": [
    "#Calculating Value of Crypto\n",
    "value_my_btc = round(my_btc * btc_price,2)\n",
    "value_my_eth = round(my_eth * eth_price,2)\n",
    "total_value_crypto= value_my_btc+value_my_eth\n",
    "\n",
    "print (f'The current value of your {my_btc} BTC is ${value_my_btc} and the current value of your {my_eth} ETH is ${value_my_eth}')"
   ]
  },
  {
   "cell_type": "markdown",
   "metadata": {},
   "source": [
    "## Collect Investments Data Using Alpaca: SPY (stocks) and AGG (bonds)\n"
   ]
  },
  {
   "cell_type": "code",
   "execution_count": 86,
   "metadata": {},
   "outputs": [],
   "source": [
    "#current amount of shares\n",
    "my_spy = 50\n",
    "my_agg = 200"
   ]
  },
  {
   "cell_type": "code",
   "execution_count": 87,
   "metadata": {},
   "outputs": [],
   "source": [
    "#creating alpaca API object\n",
    "alpaca_api_key = os.getenv('alpaca_key')\n",
    "alpaca_secret_key = os.getenv('alpaca_secret_key')\n",
    "\n",
    "api = tradeapi.REST(\n",
    "    alpaca_api_key,\n",
    "    alpaca_secret_key,\n",
    "    api_version = \"v2\")"
   ]
  },
  {
   "cell_type": "code",
   "execution_count": 88,
   "metadata": {},
   "outputs": [
    {
     "data": {
      "text/html": [
       "<div>\n",
       "<style scoped>\n",
       "    .dataframe tbody tr th:only-of-type {\n",
       "        vertical-align: middle;\n",
       "    }\n",
       "\n",
       "    .dataframe tbody tr th {\n",
       "        vertical-align: top;\n",
       "    }\n",
       "\n",
       "    .dataframe thead tr th {\n",
       "        text-align: left;\n",
       "    }\n",
       "\n",
       "    .dataframe thead tr:last-of-type th {\n",
       "        text-align: right;\n",
       "    }\n",
       "</style>\n",
       "<table border=\"1\" class=\"dataframe\">\n",
       "  <thead>\n",
       "    <tr>\n",
       "      <th></th>\n",
       "      <th colspan=\"5\" halign=\"left\">AGG</th>\n",
       "      <th colspan=\"5\" halign=\"left\">SPY</th>\n",
       "    </tr>\n",
       "    <tr>\n",
       "      <th></th>\n",
       "      <th>open</th>\n",
       "      <th>high</th>\n",
       "      <th>low</th>\n",
       "      <th>close</th>\n",
       "      <th>volume</th>\n",
       "      <th>open</th>\n",
       "      <th>high</th>\n",
       "      <th>low</th>\n",
       "      <th>close</th>\n",
       "      <th>volume</th>\n",
       "    </tr>\n",
       "    <tr>\n",
       "      <th>time</th>\n",
       "      <th></th>\n",
       "      <th></th>\n",
       "      <th></th>\n",
       "      <th></th>\n",
       "      <th></th>\n",
       "      <th></th>\n",
       "      <th></th>\n",
       "      <th></th>\n",
       "      <th></th>\n",
       "      <th></th>\n",
       "    </tr>\n",
       "  </thead>\n",
       "  <tbody>\n",
       "    <tr>\n",
       "      <th>2021-03-26 00:00:00-04:00</th>\n",
       "      <td>113.91</td>\n",
       "      <td>114.075</td>\n",
       "      <td>113.860</td>\n",
       "      <td>113.93</td>\n",
       "      <td>3385851</td>\n",
       "      <td>390.93</td>\n",
       "      <td>396.41</td>\n",
       "      <td>390.29</td>\n",
       "      <td>395.970</td>\n",
       "      <td>91121640</td>\n",
       "    </tr>\n",
       "    <tr>\n",
       "      <th>2021-03-29 00:00:00-04:00</th>\n",
       "      <td>113.52</td>\n",
       "      <td>114.000</td>\n",
       "      <td>113.520</td>\n",
       "      <td>113.72</td>\n",
       "      <td>5524113</td>\n",
       "      <td>394.40</td>\n",
       "      <td>396.75</td>\n",
       "      <td>392.81</td>\n",
       "      <td>395.485</td>\n",
       "      <td>86133590</td>\n",
       "    </tr>\n",
       "    <tr>\n",
       "      <th>2021-03-30 00:00:00-04:00</th>\n",
       "      <td>113.64</td>\n",
       "      <td>113.850</td>\n",
       "      <td>113.525</td>\n",
       "      <td>113.82</td>\n",
       "      <td>4742520</td>\n",
       "      <td>394.42</td>\n",
       "      <td>395.45</td>\n",
       "      <td>393.02</td>\n",
       "      <td>394.780</td>\n",
       "      <td>63446300</td>\n",
       "    </tr>\n",
       "    <tr>\n",
       "      <th>2021-03-31 00:00:00-04:00</th>\n",
       "      <td>113.84</td>\n",
       "      <td>113.980</td>\n",
       "      <td>113.710</td>\n",
       "      <td>113.82</td>\n",
       "      <td>5851348</td>\n",
       "      <td>395.34</td>\n",
       "      <td>398.00</td>\n",
       "      <td>395.31</td>\n",
       "      <td>396.260</td>\n",
       "      <td>88555440</td>\n",
       "    </tr>\n",
       "    <tr>\n",
       "      <th>2021-04-01 00:00:00-04:00</th>\n",
       "      <td>113.93</td>\n",
       "      <td>114.050</td>\n",
       "      <td>113.830</td>\n",
       "      <td>114.02</td>\n",
       "      <td>9491631</td>\n",
       "      <td>398.40</td>\n",
       "      <td>400.67</td>\n",
       "      <td>398.18</td>\n",
       "      <td>400.530</td>\n",
       "      <td>72714084</td>\n",
       "    </tr>\n",
       "  </tbody>\n",
       "</table>\n",
       "</div>"
      ],
      "text/plain": [
       "                              AGG                                        SPY  \\\n",
       "                             open     high      low   close   volume    open   \n",
       "time                                                                           \n",
       "2021-03-26 00:00:00-04:00  113.91  114.075  113.860  113.93  3385851  390.93   \n",
       "2021-03-29 00:00:00-04:00  113.52  114.000  113.520  113.72  5524113  394.40   \n",
       "2021-03-30 00:00:00-04:00  113.64  113.850  113.525  113.82  4742520  394.42   \n",
       "2021-03-31 00:00:00-04:00  113.84  113.980  113.710  113.82  5851348  395.34   \n",
       "2021-04-01 00:00:00-04:00  113.93  114.050  113.830  114.02  9491631  398.40   \n",
       "\n",
       "                                                              \n",
       "                             high     low    close    volume  \n",
       "time                                                          \n",
       "2021-03-26 00:00:00-04:00  396.41  390.29  395.970  91121640  \n",
       "2021-03-29 00:00:00-04:00  396.75  392.81  395.485  86133590  \n",
       "2021-03-30 00:00:00-04:00  395.45  393.02  394.780  63446300  \n",
       "2021-03-31 00:00:00-04:00  398.00  395.31  396.260  88555440  \n",
       "2021-04-01 00:00:00-04:00  400.67  398.18  400.530  72714084  "
      ]
     },
     "execution_count": 88,
     "metadata": {},
     "output_type": "execute_result"
    }
   ],
   "source": [
    "#setting time frame\n",
    "timeframe = \"1D\"\n",
    "\n",
    "# Set start and end datetimes between now and 3 years ago.\n",
    "begin_date=pd.Timestamp(\"2021-01-01\", tz=\"America/New_York\").isoformat()\n",
    "end_date = pd.Timestamp(\"2021-04-02\", tz=\"America/New_York\").isoformat()\n",
    "\n",
    "#creating tickers\n",
    "tickers = ['SPY', 'AGG']\n",
    "\n",
    "#extracting info of tickers\n",
    "df_ticker = api.get_barset(\n",
    "    tickers,\n",
    "    timeframe,\n",
    "    start=begin_date,\n",
    "    end=end_date,\n",
    ").df #this creates into a dataframe, so that we can preview data\n",
    "\n",
    "df_ticker.tail()"
   ]
  },
  {
   "cell_type": "code",
   "execution_count": 89,
   "metadata": {},
   "outputs": [
    {
     "data": {
      "text/html": [
       "<div>\n",
       "<style scoped>\n",
       "    .dataframe tbody tr th:only-of-type {\n",
       "        vertical-align: middle;\n",
       "    }\n",
       "\n",
       "    .dataframe tbody tr th {\n",
       "        vertical-align: top;\n",
       "    }\n",
       "\n",
       "    .dataframe thead th {\n",
       "        text-align: right;\n",
       "    }\n",
       "</style>\n",
       "<table border=\"1\" class=\"dataframe\">\n",
       "  <thead>\n",
       "    <tr style=\"text-align: right;\">\n",
       "      <th></th>\n",
       "      <th>SPY</th>\n",
       "      <th>AGG</th>\n",
       "    </tr>\n",
       "  </thead>\n",
       "  <tbody>\n",
       "    <tr>\n",
       "      <th>2021-03-26</th>\n",
       "      <td>395.970</td>\n",
       "      <td>113.93</td>\n",
       "    </tr>\n",
       "    <tr>\n",
       "      <th>2021-03-29</th>\n",
       "      <td>395.485</td>\n",
       "      <td>113.72</td>\n",
       "    </tr>\n",
       "    <tr>\n",
       "      <th>2021-03-30</th>\n",
       "      <td>394.780</td>\n",
       "      <td>113.82</td>\n",
       "    </tr>\n",
       "    <tr>\n",
       "      <th>2021-03-31</th>\n",
       "      <td>396.260</td>\n",
       "      <td>113.82</td>\n",
       "    </tr>\n",
       "    <tr>\n",
       "      <th>2021-04-01</th>\n",
       "      <td>400.530</td>\n",
       "      <td>114.02</td>\n",
       "    </tr>\n",
       "  </tbody>\n",
       "</table>\n",
       "</div>"
      ],
      "text/plain": [
       "                SPY     AGG\n",
       "2021-03-26  395.970  113.93\n",
       "2021-03-29  395.485  113.72\n",
       "2021-03-30  394.780  113.82\n",
       "2021-03-31  396.260  113.82\n",
       "2021-04-01  400.530  114.02"
      ]
     },
     "execution_count": 89,
     "metadata": {},
     "output_type": "execute_result"
    }
   ],
   "source": [
    "#creating new dataframe that only shows \"close\"\n",
    "df_closing_prices = pd.DataFrame()\n",
    "for ticker in tickers:\n",
    "    df_closing_prices[ticker] = df_ticker[ticker][\"close\"]\n",
    "\n",
    "df_closing_prices.index = df_closing_prices.index.date #changes index from time stamp to just date\n",
    "df_closing_prices.tail()"
   ]
  },
  {
   "cell_type": "code",
   "execution_count": 90,
   "metadata": {},
   "outputs": [],
   "source": [
    "#determing the last closing prices and value of my stocks\n",
    "spy_closing_price=df_closing_prices['SPY'][-1]\n",
    "agg_closing_prince=df_closing_prices['AGG'][-1]\n",
    "my_spy_value=my_spy * spy_closing_price\n",
    "my_agg_value=my_agg *agg_closing_prince\n",
    "total_value_shares=my_agg_value+my_spy_value"
   ]
  },
  {
   "cell_type": "code",
   "execution_count": 91,
   "metadata": {},
   "outputs": [
    {
     "name": "stdout",
     "output_type": "stream",
     "text": [
      "The current SPY closing price is $400.53\n",
      "the current AGG closing price is $114.02\n"
     ]
    }
   ],
   "source": [
    "print(f'The current SPY closing price is ${spy_closing_price}')\n",
    "print(f'the current AGG closing price is ${agg_closing_prince}')"
   ]
  },
  {
   "cell_type": "code",
   "execution_count": 92,
   "metadata": {},
   "outputs": [
    {
     "name": "stdout",
     "output_type": "stream",
     "text": [
      "The current value of your 50 SPY shares is $20026.5\n",
      "The current value of your 200 AGG shares is $22804.0\n"
     ]
    }
   ],
   "source": [
    "print(f\"The current value of your {my_spy} SPY shares is ${my_spy_value}\")\n",
    "print(f\"The current value of your {my_agg} AGG shares is ${my_agg_value}\")"
   ]
  },
  {
   "cell_type": "markdown",
   "metadata": {},
   "source": [
    "## Savings Health Analysis"
   ]
  },
  {
   "cell_type": "code",
   "execution_count": 93,
   "metadata": {},
   "outputs": [
    {
     "data": {
      "text/html": [
       "<div>\n",
       "<style scoped>\n",
       "    .dataframe tbody tr th:only-of-type {\n",
       "        vertical-align: middle;\n",
       "    }\n",
       "\n",
       "    .dataframe tbody tr th {\n",
       "        vertical-align: top;\n",
       "    }\n",
       "\n",
       "    .dataframe thead th {\n",
       "        text-align: right;\n",
       "    }\n",
       "</style>\n",
       "<table border=\"1\" class=\"dataframe\">\n",
       "  <thead>\n",
       "    <tr style=\"text-align: right;\">\n",
       "      <th></th>\n",
       "      <th>Amount</th>\n",
       "    </tr>\n",
       "  </thead>\n",
       "  <tbody>\n",
       "    <tr>\n",
       "      <th>Crypto</th>\n",
       "      <td>81433.67</td>\n",
       "    </tr>\n",
       "    <tr>\n",
       "      <th>Shares</th>\n",
       "      <td>42830.50</td>\n",
       "    </tr>\n",
       "  </tbody>\n",
       "</table>\n",
       "</div>"
      ],
      "text/plain": [
       "          Amount\n",
       "Crypto  81433.67\n",
       "Shares  42830.50"
      ]
     },
     "execution_count": 93,
     "metadata": {},
     "output_type": "execute_result"
    }
   ],
   "source": [
    "#creating variable to set monthly household income\n",
    "monthly_income= 12000\n",
    "\n",
    "#creating savings DataFrame\n",
    "df_savings=pd.DataFrame({'Amount' : [total_value_crypto,\n",
    "                                     total_value_shares]\n",
    "                        }, index=['Crypto', 'Shares'])\n",
    "\n",
    "#adding value to Dataframe\n",
    "#df_savings['Amount'][0] = total_value_crypto\n",
    "#df_savings['Amount'][1] = total_value_shares\n",
    "df_savings.head()\n",
    "    \n"
   ]
  },
  {
   "cell_type": "code",
   "execution_count": 94,
   "metadata": {},
   "outputs": [
    {
     "data": {
      "text/plain": [
       "array([<AxesSubplot:ylabel='Amount'>], dtype=object)"
      ]
     },
     "execution_count": 94,
     "metadata": {},
     "output_type": "execute_result"
    },
    {
     "data": {
      "image/png": "[encoded data removed]",
      "text/plain": [
       "<Figure size 432x288 with 1 Axes>"
      ]
     },
     "metadata": {},
     "output_type": "display_data"
    }
   ],
   "source": [
    "#plotting pie chart\n",
    "df_savings.plot.pie(subplots=True)"
   ]
  },
  {
   "cell_type": "code",
   "execution_count": 95,
   "metadata": {},
   "outputs": [],
   "source": [
    "#setting ideal emergency fund and total savings\n",
    "emergency_fund= monthly_income*3\n",
    "total_savings= total_value_crypto+total_value_shares\n"
   ]
  },
  {
   "cell_type": "code",
   "execution_count": 96,
   "metadata": {},
   "outputs": [
    {
     "name": "stdout",
     "output_type": "stream",
     "text": [
      "Congratulations! Your account has more than enough funds!\n"
     ]
    }
   ],
   "source": [
    "if total_savings > emergency_fund:\n",
    "    print('Congratulations! Your account has more than enough funds!')\n",
    "elif total_savings == emergency_fund:\n",
    "    print('Congratulations on reaching your financial goal!')\n",
    "else:\n",
    "    print(f'Your account is below your goal')"
   ]
  },
  {
   "cell_type": "markdown",
   "metadata": {},
   "source": [
    "## Part 2 - Retirement Planning"
   ]
  },
  {
   "cell_type": "code",
   "execution_count": 97,
   "metadata": {},
   "outputs": [
    {
     "data": {
      "text/html": [
       "<div>\n",
       "<style scoped>\n",
       "    .dataframe tbody tr th:only-of-type {\n",
       "        vertical-align: middle;\n",
       "    }\n",
       "\n",
       "    .dataframe tbody tr th {\n",
       "        vertical-align: top;\n",
       "    }\n",
       "\n",
       "    .dataframe thead tr th {\n",
       "        text-align: left;\n",
       "    }\n",
       "\n",
       "    .dataframe thead tr:last-of-type th {\n",
       "        text-align: right;\n",
       "    }\n",
       "</style>\n",
       "<table border=\"1\" class=\"dataframe\">\n",
       "  <thead>\n",
       "    <tr>\n",
       "      <th></th>\n",
       "      <th colspan=\"5\" halign=\"left\">AGG</th>\n",
       "      <th colspan=\"5\" halign=\"left\">SPY</th>\n",
       "    </tr>\n",
       "    <tr>\n",
       "      <th></th>\n",
       "      <th>open</th>\n",
       "      <th>high</th>\n",
       "      <th>low</th>\n",
       "      <th>close</th>\n",
       "      <th>volume</th>\n",
       "      <th>open</th>\n",
       "      <th>high</th>\n",
       "      <th>low</th>\n",
       "      <th>close</th>\n",
       "      <th>volume</th>\n",
       "    </tr>\n",
       "    <tr>\n",
       "      <th>time</th>\n",
       "      <th></th>\n",
       "      <th></th>\n",
       "      <th></th>\n",
       "      <th></th>\n",
       "      <th></th>\n",
       "      <th></th>\n",
       "      <th></th>\n",
       "      <th></th>\n",
       "      <th></th>\n",
       "      <th></th>\n",
       "    </tr>\n",
       "  </thead>\n",
       "  <tbody>\n",
       "    <tr>\n",
       "      <th>2020-11-06 00:00:00-05:00</th>\n",
       "      <td>117.81</td>\n",
       "      <td>117.86</td>\n",
       "      <td>117.6699</td>\n",
       "      <td>117.80</td>\n",
       "      <td>5106146</td>\n",
       "      <td>349.93</td>\n",
       "      <td>351.5100</td>\n",
       "      <td>347.65</td>\n",
       "      <td>350.19</td>\n",
       "      <td>58137413</td>\n",
       "    </tr>\n",
       "    <tr>\n",
       "      <th>2020-11-09 00:00:00-05:00</th>\n",
       "      <td>117.40</td>\n",
       "      <td>117.47</td>\n",
       "      <td>117.0600</td>\n",
       "      <td>117.24</td>\n",
       "      <td>6073474</td>\n",
       "      <td>363.97</td>\n",
       "      <td>364.3800</td>\n",
       "      <td>354.06</td>\n",
       "      <td>354.54</td>\n",
       "      <td>140613847</td>\n",
       "    </tr>\n",
       "    <tr>\n",
       "      <th>2020-11-10 00:00:00-05:00</th>\n",
       "      <td>117.05</td>\n",
       "      <td>117.23</td>\n",
       "      <td>117.0300</td>\n",
       "      <td>117.05</td>\n",
       "      <td>4663301</td>\n",
       "      <td>353.49</td>\n",
       "      <td>355.1800</td>\n",
       "      <td>350.51</td>\n",
       "      <td>354.07</td>\n",
       "      <td>69143380</td>\n",
       "    </tr>\n",
       "    <tr>\n",
       "      <th>2020-11-11 00:00:00-05:00</th>\n",
       "      <td>117.06</td>\n",
       "      <td>117.18</td>\n",
       "      <td>117.0200</td>\n",
       "      <td>117.15</td>\n",
       "      <td>3001773</td>\n",
       "      <td>356.40</td>\n",
       "      <td>357.5600</td>\n",
       "      <td>355.06</td>\n",
       "      <td>356.62</td>\n",
       "      <td>45627772</td>\n",
       "    </tr>\n",
       "    <tr>\n",
       "      <th>2020-11-12 00:00:00-05:00</th>\n",
       "      <td>117.37</td>\n",
       "      <td>117.63</td>\n",
       "      <td>117.3300</td>\n",
       "      <td>117.62</td>\n",
       "      <td>7438935</td>\n",
       "      <td>355.58</td>\n",
       "      <td>356.7182</td>\n",
       "      <td>351.26</td>\n",
       "      <td>353.28</td>\n",
       "      <td>57393573</td>\n",
       "    </tr>\n",
       "  </tbody>\n",
       "</table>\n",
       "</div>"
      ],
      "text/plain": [
       "                              AGG                                        SPY  \\\n",
       "                             open    high       low   close   volume    open   \n",
       "time                                                                           \n",
       "2020-11-06 00:00:00-05:00  117.81  117.86  117.6699  117.80  5106146  349.93   \n",
       "2020-11-09 00:00:00-05:00  117.40  117.47  117.0600  117.24  6073474  363.97   \n",
       "2020-11-10 00:00:00-05:00  117.05  117.23  117.0300  117.05  4663301  353.49   \n",
       "2020-11-11 00:00:00-05:00  117.06  117.18  117.0200  117.15  3001773  356.40   \n",
       "2020-11-12 00:00:00-05:00  117.37  117.63  117.3300  117.62  7438935  355.58   \n",
       "\n",
       "                                                                \n",
       "                               high     low   close     volume  \n",
       "time                                                            \n",
       "2020-11-06 00:00:00-05:00  351.5100  347.65  350.19   58137413  \n",
       "2020-11-09 00:00:00-05:00  364.3800  354.06  354.54  140613847  \n",
       "2020-11-10 00:00:00-05:00  355.1800  350.51  354.07   69143380  \n",
       "2020-11-11 00:00:00-05:00  357.5600  355.06  356.62   45627772  \n",
       "2020-11-12 00:00:00-05:00  356.7182  351.26  353.28   57393573  "
      ]
     },
     "execution_count": 97,
     "metadata": {},
     "output_type": "execute_result"
    }
   ],
   "source": [
    "#setting time frame\n",
    "timeframe = \"1D\"\n",
    "\n",
    "# Set start and end datetimes between now and 3 years ago.\n",
    "begin_date_2=pd.Timestamp(\"2016-04-02\", tz=\"America/New_York\").isoformat()\n",
    "#end_date = pd.Timestamp(\"2021-04-02\", tz=\"America/New_York\").isoformat()\n",
    "\n",
    "#extracting info of tickers\n",
    "five_year_data = api.get_barset(\n",
    "    tickers,\n",
    "    timeframe,\n",
    "    start=begin_date_2,\n",
    "    end=end_date,\n",
    ").df #this creates into a dataframe, so that we can preview data\n",
    "\n",
    "five_year_data.head()"
   ]
  },
  {
   "cell_type": "code",
   "execution_count": 98,
   "metadata": {},
   "outputs": [],
   "source": [
    "#MonteCarlo simulation for next 30 years, with 500 simulations\n",
    "mc_thirty_years=MCSimulation(\n",
    "    portfolio_data = five_year_data,\n",
    "    weights = [.4,.6],\n",
    "    num_simulation = 500,\n",
    "    num_trading_days =252*30)\n"
   ]
  },
  {
   "cell_type": "code",
   "execution_count": 99,
   "metadata": {},
   "outputs": [
    {
     "name": "stdout",
     "output_type": "stream",
     "text": [
      "Running Monte Carlo simulation number 0.\n",
      "Running Monte Carlo simulation number 10.\n",
      "Running Monte Carlo simulation number 20.\n",
      "Running Monte Carlo simulation number 30.\n",
      "Running Monte Carlo simulation number 40.\n",
      "Running Monte Carlo simulation number 50.\n",
      "Running Monte Carlo simulation number 60.\n",
      "Running Monte Carlo simulation number 70.\n",
      "Running Monte Carlo simulation number 80.\n",
      "Running Monte Carlo simulation number 90.\n",
      "Running Monte Carlo simulation number 100.\n",
      "Running Monte Carlo simulation number 110.\n",
      "Running Monte Carlo simulation number 120.\n",
      "Running Monte Carlo simulation number 130.\n",
      "Running Monte Carlo simulation number 140.\n",
      "Running Monte Carlo simulation number 150.\n",
      "Running Monte Carlo simulation number 160.\n",
      "Running Monte Carlo simulation number 170.\n",
      "Running Monte Carlo simulation number 180.\n",
      "Running Monte Carlo simulation number 190.\n",
      "Running Monte Carlo simulation number 200.\n",
      "Running Monte Carlo simulation number 210.\n",
      "Running Monte Carlo simulation number 220.\n",
      "Running Monte Carlo simulation number 230.\n",
      "Running Monte Carlo simulation number 240.\n",
      "Running Monte Carlo simulation number 250.\n",
      "Running Monte Carlo simulation number 260.\n",
      "Running Monte Carlo simulation number 270.\n",
      "Running Monte Carlo simulation number 280.\n",
      "Running Monte Carlo simulation number 290.\n",
      "Running Monte Carlo simulation number 300.\n",
      "Running Monte Carlo simulation number 310.\n",
      "Running Monte Carlo simulation number 320.\n",
      "Running Monte Carlo simulation number 330.\n",
      "Running Monte Carlo simulation number 340.\n",
      "Running Monte Carlo simulation number 350.\n",
      "Running Monte Carlo simulation number 360.\n",
      "Running Monte Carlo simulation number 370.\n",
      "Running Monte Carlo simulation number 380.\n",
      "Running Monte Carlo simulation number 390.\n",
      "Running Monte Carlo simulation number 400.\n",
      "Running Monte Carlo simulation number 410.\n",
      "Running Monte Carlo simulation number 420.\n",
      "Running Monte Carlo simulation number 430.\n",
      "Running Monte Carlo simulation number 440.\n",
      "Running Monte Carlo simulation number 450.\n",
      "Running Monte Carlo simulation number 460.\n",
      "Running Monte Carlo simulation number 470.\n",
      "Running Monte Carlo simulation number 480.\n",
      "Running Monte Carlo simulation number 490.\n"
     ]
    },
    {
     "data": {
      "text/html": [
       "<div>\n",
       "<style scoped>\n",
       "    .dataframe tbody tr th:only-of-type {\n",
       "        vertical-align: middle;\n",
       "    }\n",
       "\n",
       "    .dataframe tbody tr th {\n",
       "        vertical-align: top;\n",
       "    }\n",
       "\n",
       "    .dataframe thead th {\n",
       "        text-align: right;\n",
       "    }\n",
       "</style>\n",
       "<table border=\"1\" class=\"dataframe\">\n",
       "  <thead>\n",
       "    <tr style=\"text-align: right;\">\n",
       "      <th></th>\n",
       "      <th>0</th>\n",
       "      <th>1</th>\n",
       "      <th>2</th>\n",
       "      <th>3</th>\n",
       "      <th>4</th>\n",
       "      <th>5</th>\n",
       "      <th>6</th>\n",
       "      <th>7</th>\n",
       "      <th>8</th>\n",
       "      <th>9</th>\n",
       "      <th>...</th>\n",
       "      <th>490</th>\n",
       "      <th>491</th>\n",
       "      <th>492</th>\n",
       "      <th>493</th>\n",
       "      <th>494</th>\n",
       "      <th>495</th>\n",
       "      <th>496</th>\n",
       "      <th>497</th>\n",
       "      <th>498</th>\n",
       "      <th>499</th>\n",
       "    </tr>\n",
       "  </thead>\n",
       "  <tbody>\n",
       "    <tr>\n",
       "      <th>0</th>\n",
       "      <td>1.000000</td>\n",
       "      <td>1.000000</td>\n",
       "      <td>1.000000</td>\n",
       "      <td>1.000000</td>\n",
       "      <td>1.000000</td>\n",
       "      <td>1.000000</td>\n",
       "      <td>1.000000</td>\n",
       "      <td>1.000000</td>\n",
       "      <td>1.000000</td>\n",
       "      <td>1.000000</td>\n",
       "      <td>...</td>\n",
       "      <td>1.000000</td>\n",
       "      <td>1.000000</td>\n",
       "      <td>1.000000</td>\n",
       "      <td>1.000000</td>\n",
       "      <td>1.000000</td>\n",
       "      <td>1.000000</td>\n",
       "      <td>1.000000</td>\n",
       "      <td>1.000000</td>\n",
       "      <td>1.000000</td>\n",
       "      <td>1.000000</td>\n",
       "    </tr>\n",
       "    <tr>\n",
       "      <th>1</th>\n",
       "      <td>1.003269</td>\n",
       "      <td>1.008457</td>\n",
       "      <td>1.001578</td>\n",
       "      <td>0.999215</td>\n",
       "      <td>1.004217</td>\n",
       "      <td>1.005952</td>\n",
       "      <td>1.004670</td>\n",
       "      <td>0.992584</td>\n",
       "      <td>0.997814</td>\n",
       "      <td>0.999453</td>\n",
       "      <td>...</td>\n",
       "      <td>1.003215</td>\n",
       "      <td>1.001107</td>\n",
       "      <td>1.006327</td>\n",
       "      <td>0.989002</td>\n",
       "      <td>0.994883</td>\n",
       "      <td>0.999184</td>\n",
       "      <td>0.996193</td>\n",
       "      <td>1.001025</td>\n",
       "      <td>1.005706</td>\n",
       "      <td>0.993329</td>\n",
       "    </tr>\n",
       "    <tr>\n",
       "      <th>2</th>\n",
       "      <td>1.003345</td>\n",
       "      <td>1.012402</td>\n",
       "      <td>0.998258</td>\n",
       "      <td>0.999302</td>\n",
       "      <td>0.998909</td>\n",
       "      <td>1.001835</td>\n",
       "      <td>1.015557</td>\n",
       "      <td>0.997150</td>\n",
       "      <td>0.989776</td>\n",
       "      <td>0.999516</td>\n",
       "      <td>...</td>\n",
       "      <td>1.005742</td>\n",
       "      <td>0.991391</td>\n",
       "      <td>1.004335</td>\n",
       "      <td>0.985585</td>\n",
       "      <td>0.997705</td>\n",
       "      <td>0.997988</td>\n",
       "      <td>0.994503</td>\n",
       "      <td>1.008430</td>\n",
       "      <td>1.005500</td>\n",
       "      <td>0.998869</td>\n",
       "    </tr>\n",
       "    <tr>\n",
       "      <th>3</th>\n",
       "      <td>1.006557</td>\n",
       "      <td>1.012299</td>\n",
       "      <td>0.999956</td>\n",
       "      <td>0.999236</td>\n",
       "      <td>1.002019</td>\n",
       "      <td>1.002749</td>\n",
       "      <td>1.023537</td>\n",
       "      <td>0.993229</td>\n",
       "      <td>0.991271</td>\n",
       "      <td>1.002024</td>\n",
       "      <td>...</td>\n",
       "      <td>1.007148</td>\n",
       "      <td>0.999104</td>\n",
       "      <td>1.001778</td>\n",
       "      <td>0.979718</td>\n",
       "      <td>0.997490</td>\n",
       "      <td>1.001832</td>\n",
       "      <td>0.992470</td>\n",
       "      <td>1.021378</td>\n",
       "      <td>0.999245</td>\n",
       "      <td>0.995889</td>\n",
       "    </tr>\n",
       "    <tr>\n",
       "      <th>4</th>\n",
       "      <td>1.007081</td>\n",
       "      <td>1.016193</td>\n",
       "      <td>1.005201</td>\n",
       "      <td>1.006846</td>\n",
       "      <td>1.007460</td>\n",
       "      <td>1.001207</td>\n",
       "      <td>1.030875</td>\n",
       "      <td>0.987402</td>\n",
       "      <td>0.991147</td>\n",
       "      <td>1.004014</td>\n",
       "      <td>...</td>\n",
       "      <td>1.011100</td>\n",
       "      <td>1.001717</td>\n",
       "      <td>1.001614</td>\n",
       "      <td>0.977811</td>\n",
       "      <td>0.994166</td>\n",
       "      <td>1.000613</td>\n",
       "      <td>0.989671</td>\n",
       "      <td>1.026803</td>\n",
       "      <td>1.002724</td>\n",
       "      <td>0.981316</td>\n",
       "    </tr>\n",
       "    <tr>\n",
       "      <th>...</th>\n",
       "      <td>...</td>\n",
       "      <td>...</td>\n",
       "      <td>...</td>\n",
       "      <td>...</td>\n",
       "      <td>...</td>\n",
       "      <td>...</td>\n",
       "      <td>...</td>\n",
       "      <td>...</td>\n",
       "      <td>...</td>\n",
       "      <td>...</td>\n",
       "      <td>...</td>\n",
       "      <td>...</td>\n",
       "      <td>...</td>\n",
       "      <td>...</td>\n",
       "      <td>...</td>\n",
       "      <td>...</td>\n",
       "      <td>...</td>\n",
       "      <td>...</td>\n",
       "      <td>...</td>\n",
       "      <td>...</td>\n",
       "      <td>...</td>\n",
       "    </tr>\n",
       "    <tr>\n",
       "      <th>7556</th>\n",
       "      <td>328.610373</td>\n",
       "      <td>139.795643</td>\n",
       "      <td>130.593715</td>\n",
       "      <td>227.561084</td>\n",
       "      <td>133.221399</td>\n",
       "      <td>407.528139</td>\n",
       "      <td>209.151090</td>\n",
       "      <td>148.738243</td>\n",
       "      <td>104.681081</td>\n",
       "      <td>259.226309</td>\n",
       "      <td>...</td>\n",
       "      <td>414.254385</td>\n",
       "      <td>231.821184</td>\n",
       "      <td>202.353883</td>\n",
       "      <td>186.982030</td>\n",
       "      <td>88.900662</td>\n",
       "      <td>124.726339</td>\n",
       "      <td>195.759730</td>\n",
       "      <td>310.120471</td>\n",
       "      <td>389.954369</td>\n",
       "      <td>243.366059</td>\n",
       "    </tr>\n",
       "    <tr>\n",
       "      <th>7557</th>\n",
       "      <td>326.712419</td>\n",
       "      <td>139.062514</td>\n",
       "      <td>132.231748</td>\n",
       "      <td>227.583206</td>\n",
       "      <td>133.239686</td>\n",
       "      <td>406.822174</td>\n",
       "      <td>208.960391</td>\n",
       "      <td>148.505821</td>\n",
       "      <td>104.734752</td>\n",
       "      <td>258.788877</td>\n",
       "      <td>...</td>\n",
       "      <td>413.627963</td>\n",
       "      <td>231.297987</td>\n",
       "      <td>201.179996</td>\n",
       "      <td>188.729741</td>\n",
       "      <td>90.008555</td>\n",
       "      <td>125.385915</td>\n",
       "      <td>196.485625</td>\n",
       "      <td>311.790603</td>\n",
       "      <td>390.132214</td>\n",
       "      <td>242.233115</td>\n",
       "    </tr>\n",
       "    <tr>\n",
       "      <th>7558</th>\n",
       "      <td>326.299748</td>\n",
       "      <td>139.775754</td>\n",
       "      <td>132.474190</td>\n",
       "      <td>229.896659</td>\n",
       "      <td>133.142522</td>\n",
       "      <td>408.437946</td>\n",
       "      <td>207.902034</td>\n",
       "      <td>147.739237</td>\n",
       "      <td>104.500967</td>\n",
       "      <td>257.551563</td>\n",
       "      <td>...</td>\n",
       "      <td>410.221802</td>\n",
       "      <td>231.219216</td>\n",
       "      <td>201.125759</td>\n",
       "      <td>187.978783</td>\n",
       "      <td>89.909290</td>\n",
       "      <td>124.307720</td>\n",
       "      <td>197.716606</td>\n",
       "      <td>312.191252</td>\n",
       "      <td>389.298205</td>\n",
       "      <td>242.498421</td>\n",
       "    </tr>\n",
       "    <tr>\n",
       "      <th>7559</th>\n",
       "      <td>326.500339</td>\n",
       "      <td>139.146586</td>\n",
       "      <td>132.443988</td>\n",
       "      <td>230.385518</td>\n",
       "      <td>132.300712</td>\n",
       "      <td>409.313773</td>\n",
       "      <td>207.024802</td>\n",
       "      <td>147.428808</td>\n",
       "      <td>104.491480</td>\n",
       "      <td>260.470679</td>\n",
       "      <td>...</td>\n",
       "      <td>412.052252</td>\n",
       "      <td>232.004291</td>\n",
       "      <td>201.733499</td>\n",
       "      <td>187.259861</td>\n",
       "      <td>90.319438</td>\n",
       "      <td>123.584085</td>\n",
       "      <td>198.450053</td>\n",
       "      <td>314.058898</td>\n",
       "      <td>390.587625</td>\n",
       "      <td>242.252904</td>\n",
       "    </tr>\n",
       "    <tr>\n",
       "      <th>7560</th>\n",
       "      <td>329.751175</td>\n",
       "      <td>140.275739</td>\n",
       "      <td>131.378433</td>\n",
       "      <td>231.180877</td>\n",
       "      <td>132.522026</td>\n",
       "      <td>405.307648</td>\n",
       "      <td>206.770525</td>\n",
       "      <td>147.154102</td>\n",
       "      <td>105.006315</td>\n",
       "      <td>260.086935</td>\n",
       "      <td>...</td>\n",
       "      <td>413.659862</td>\n",
       "      <td>232.973312</td>\n",
       "      <td>199.261924</td>\n",
       "      <td>190.064165</td>\n",
       "      <td>89.850790</td>\n",
       "      <td>123.555345</td>\n",
       "      <td>199.493583</td>\n",
       "      <td>315.044794</td>\n",
       "      <td>388.532262</td>\n",
       "      <td>242.255381</td>\n",
       "    </tr>\n",
       "  </tbody>\n",
       "</table>\n",
       "<p>7561 rows × 500 columns</p>\n",
       "</div>"
      ],
      "text/plain": [
       "             0           1           2           3           4           5    \\\n",
       "0       1.000000    1.000000    1.000000    1.000000    1.000000    1.000000   \n",
       "1       1.003269    1.008457    1.001578    0.999215    1.004217    1.005952   \n",
       "2       1.003345    1.012402    0.998258    0.999302    0.998909    1.001835   \n",
       "3       1.006557    1.012299    0.999956    0.999236    1.002019    1.002749   \n",
       "4       1.007081    1.016193    1.005201    1.006846    1.007460    1.001207   \n",
       "...          ...         ...         ...         ...         ...         ...   \n",
       "7556  328.610373  139.795643  130.593715  227.561084  133.221399  407.528139   \n",
       "7557  326.712419  139.062514  132.231748  227.583206  133.239686  406.822174   \n",
       "7558  326.299748  139.775754  132.474190  229.896659  133.142522  408.437946   \n",
       "7559  326.500339  139.146586  132.443988  230.385518  132.300712  409.313773   \n",
       "7560  329.751175  140.275739  131.378433  231.180877  132.522026  405.307648   \n",
       "\n",
       "             6           7           8           9    ...         490  \\\n",
       "0       1.000000    1.000000    1.000000    1.000000  ...    1.000000   \n",
       "1       1.004670    0.992584    0.997814    0.999453  ...    1.003215   \n",
       "2       1.015557    0.997150    0.989776    0.999516  ...    1.005742   \n",
       "3       1.023537    0.993229    0.991271    1.002024  ...    1.007148   \n",
       "4       1.030875    0.987402    0.991147    1.004014  ...    1.011100   \n",
       "...          ...         ...         ...         ...  ...         ...   \n",
       "7556  209.151090  148.738243  104.681081  259.226309  ...  414.254385   \n",
       "7557  208.960391  148.505821  104.734752  258.788877  ...  413.627963   \n",
       "7558  207.902034  147.739237  104.500967  257.551563  ...  410.221802   \n",
       "7559  207.024802  147.428808  104.491480  260.470679  ...  412.052252   \n",
       "7560  206.770525  147.154102  105.006315  260.086935  ...  413.659862   \n",
       "\n",
       "             491         492         493        494         495         496  \\\n",
       "0       1.000000    1.000000    1.000000   1.000000    1.000000    1.000000   \n",
       "1       1.001107    1.006327    0.989002   0.994883    0.999184    0.996193   \n",
       "2       0.991391    1.004335    0.985585   0.997705    0.997988    0.994503   \n",
       "3       0.999104    1.001778    0.979718   0.997490    1.001832    0.992470   \n",
       "4       1.001717    1.001614    0.977811   0.994166    1.000613    0.989671   \n",
       "...          ...         ...         ...        ...         ...         ...   \n",
       "7556  231.821184  202.353883  186.982030  88.900662  124.726339  195.759730   \n",
       "7557  231.297987  201.179996  188.729741  90.008555  125.385915  196.485625   \n",
       "7558  231.219216  201.125759  187.978783  89.909290  124.307720  197.716606   \n",
       "7559  232.004291  201.733499  187.259861  90.319438  123.584085  198.450053   \n",
       "7560  232.973312  199.261924  190.064165  89.850790  123.555345  199.493583   \n",
       "\n",
       "             497         498         499  \n",
       "0       1.000000    1.000000    1.000000  \n",
       "1       1.001025    1.005706    0.993329  \n",
       "2       1.008430    1.005500    0.998869  \n",
       "3       1.021378    0.999245    0.995889  \n",
       "4       1.026803    1.002724    0.981316  \n",
       "...          ...         ...         ...  \n",
       "7556  310.120471  389.954369  243.366059  \n",
       "7557  311.790603  390.132214  242.233115  \n",
       "7558  312.191252  389.298205  242.498421  \n",
       "7559  314.058898  390.587625  242.252904  \n",
       "7560  315.044794  388.532262  242.255381  \n",
       "\n",
       "[7561 rows x 500 columns]"
      ]
     },
     "execution_count": 99,
     "metadata": {},
     "output_type": "execute_result"
    }
   ],
   "source": [
    "mc_thirty_years.calc_cumulative_return()"
   ]
  },
  {
   "cell_type": "code",
   "execution_count": 100,
   "metadata": {},
   "outputs": [
    {
     "data": {
      "image/png": "[encoded data removed]",
      "text/plain": [
       "<Figure size 432x288 with 1 Axes>"
      ]
     },
     "metadata": {
      "needs_background": "light"
     },
     "output_type": "display_data"
    }
   ],
   "source": [
    "# plotting simulation\n",
    "line_plot =mc_thirty_years.plot_simulation()"
   ]
  },
  {
   "cell_type": "code",
   "execution_count": 101,
   "metadata": {},
   "outputs": [
    {
     "data": {
      "image/png": "[encoded data removed]",
      "text/plain": [
       "<Figure size 432x288 with 1 Axes>"
      ]
     },
     "metadata": {
      "needs_background": "light"
     },
     "output_type": "display_data"
    }
   ],
   "source": [
    "#plotting distribution\n",
    "distribution_plot=mc_thirty_years.plot_distribution()"
   ]
  },
  {
   "cell_type": "code",
   "execution_count": 102,
   "metadata": {},
   "outputs": [
    {
     "data": {
      "text/plain": [
       "count           500.000000\n",
       "mean            209.968964\n",
       "std              97.071252\n",
       "min              54.287941\n",
       "25%             141.875157\n",
       "50%             189.454920\n",
       "75%             262.664871\n",
       "max             674.292114\n",
       "95% CI Lower     75.523955\n",
       "95% CI Upper    422.956790\n",
       "Name: 7560, dtype: float64"
      ]
     },
     "execution_count": 102,
     "metadata": {},
     "output_type": "execute_result"
    }
   ],
   "source": [
    "#summary statistic\n",
    "summary_statistic=mc_thirty_years.summarize_cumulative_return()\n",
    "summary_statistic"
   ]
  },
  {
   "cell_type": "code",
   "execution_count": 103,
   "metadata": {},
   "outputs": [],
   "source": [
    "#defining initial inv. as well as upper and lower 95% returns\n",
    "initial_investment=20000\n",
    "ci_lower = round(summary_statistic[8]*initial_investment,2)\n",
    "ci_upper = round(summary_statistic[9]*initial_investment,2)"
   ]
  },
  {
   "cell_type": "code",
   "execution_count": 104,
   "metadata": {},
   "outputs": [
    {
     "name": "stdout",
     "output_type": "stream",
     "text": [
      "There is a 95% chance that an initial investment of $20000 will return between $1510479.1 and $8459135.81 within 30 years\n"
     ]
    }
   ],
   "source": [
    "print(f\"There is a 95% chance that an initial investment of ${initial_investment} \"\n",
    "      f\"will return between ${ci_lower} and ${ci_upper} within 30 years\")"
   ]
  },
  {
   "cell_type": "code",
   "execution_count": null,
   "metadata": {},
   "outputs": [],
   "source": []
  }
 ],
 "metadata": {
  "kernelspec": {
   "display_name": "Python 3",
   "language": "python",
   "name": "python3"
  },
  "language_info": {
   "codemirror_mode": {
    "name": "ipython",
    "version": 3
   },
   "file_extension": ".py",
   "mimetype": "text/x-python",
   "name": "python",
   "nbconvert_exporter": "python",
   "pygments_lexer": "ipython3",
   "version": "3.8.5"
  }
 },
 "nbformat": 4,
 "nbformat_minor": 4
}
